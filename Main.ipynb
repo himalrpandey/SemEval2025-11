{
 "cells": [
  {
   "cell_type": "markdown",
   "id": "9cc95f30",
   "metadata": {},
   "source": [
    "# Multi-label Emotion Detection"
   ]
  },
  {
   "cell_type": "markdown",
   "id": "a36bfca0",
   "metadata": {},
   "source": [
    "SemEval2025 Task 11 Track A + C\n",
    "\n",
    "Finetune model to generate code\n",
    "use our data to fine-tune and evaluate\n",
    "Evaluate fine-tuned vs zero-shot vs baseline (generate n times and record error rate)\n",
    "Use a dataset for training"
   ]
  },
  {
   "cell_type": "markdown",
   "id": "70f28832",
   "metadata": {},
   "source": [
    "## 1A. Environment Set-up "
   ]
  },
  {
   "cell_type": "code",
   "execution_count": 3,
   "id": "88c48f54",
   "metadata": {},
   "outputs": [],
   "source": [
    "# Environment check \n",
    "import os\n",
    "assert os.environ['CONDA_DEFAULT_ENV'] == \"cs375\"\n",
    "\n",
    "import sys\n",
    "assert sys.version_info.major == 3 and sys.version_info.minor == 11"
   ]
  },
  {
   "cell_type": "markdown",
   "id": "c2d637bf",
   "metadata": {},
   "source": [
    "#### Installing other packages"
   ]
  },
  {
   "cell_type": "code",
   "execution_count": 4,
   "id": "41206a9b",
   "metadata": {},
   "outputs": [],
   "source": [
    "import re\n",
    "import typing\n",
    "from typing import List\n",
    "import numpy as np\n",
    "import torch\n",
    "import torch.nn.functional as F\n",
    "from transformers import (AutoTokenizer, AutoModelForSequenceClassification, \n",
    "                          TrainingArguments, Trainer, DataCollatorWithPadding)\n",
    "from datasets import Dataset, load_dataset\n",
    "from sklearn.metrics import f1_score\n",
    "import pandas as pd"
   ]
  },
  {
   "cell_type": "markdown",
   "id": "30ee52cb",
   "metadata": {},
   "source": [
    "## 1B. Data exploration"
   ]
  },
  {
   "cell_type": "code",
   "execution_count": 10,
   "id": "825a7bb7",
   "metadata": {},
   "outputs": [
    {
     "name": "stdout",
     "output_type": "stream",
     "text": [
      "                      id                                               text  \\\n",
      "0  eng_dev_track_a_00001            My mouth fell open `` No, no, no... I..   \n",
      "1  eng_dev_track_a_00002  You can barely make out your daughter's pale f...   \n",
      "2  eng_dev_track_a_00003  But after blinking my eyes for a few times lep...   \n",
      "3  eng_dev_track_a_00004  Slowly rising to my feet I came to the conclus...   \n",
      "4  eng_dev_track_a_00005  I noticed this months after moving in and doin...   \n",
      "\n",
      "   Anger  Fear  Joy  Sadness  Surprise  \n",
      "0    NaN   NaN  NaN      NaN       NaN  \n",
      "1    NaN   NaN  NaN      NaN       NaN  \n",
      "2    NaN   NaN  NaN      NaN       NaN  \n",
      "3    NaN   NaN  NaN      NaN       NaN  \n",
      "4    NaN   NaN  NaN      NaN       NaN  \n"
     ]
    }
   ],
   "source": [
    "# Load the SemEval dataset\n",
    "file_path = \"public_data/dev/track_a/eng_a.csv\"\n",
    "data = pd.read_csv(file_path)\n",
    "emotion_columns = [\"Anger\", \"Fear\", \"Joy\", \"Sadness\", \"Surprise\"]\n",
    "print(data.head())"
   ]
  },
  {
   "cell_type": "code",
   "execution_count": null,
   "id": "581d6119",
   "metadata": {},
   "outputs": [],
   "source": []
  }
 ],
 "metadata": {
  "kernelspec": {
   "display_name": "Python [conda env:cs375] *",
   "language": "python",
   "name": "conda-env-cs375-py"
  },
  "language_info": {
   "codemirror_mode": {
    "name": "ipython",
    "version": 3
   },
   "file_extension": ".py",
   "mimetype": "text/x-python",
   "name": "python",
   "nbconvert_exporter": "python",
   "pygments_lexer": "ipython3",
   "version": "3.11.9"
  }
 },
 "nbformat": 4,
 "nbformat_minor": 5
}
